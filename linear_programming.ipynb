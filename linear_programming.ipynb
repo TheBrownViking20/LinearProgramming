{
 "cells": [
  {
   "cell_type": "markdown",
   "metadata": {},
   "source": [
    "# Introduction\n",
    "Optimization definitely makes our life easier. From using our time effectively to solving supply chain problems, optimization techniques are used everywhere.\n",
    "\n",
    "Linear Programming is one of the simplest and well-known ways to perform optimization. You can solve complex optimization problems by making a few simplifying assumptions."
   ]
  },
  {
   "cell_type": "markdown",
   "metadata": {},
   "source": [
    "# What is Linear Programming?\n",
    "Linear programming is a simple technique where we depict complex relationships through linear functions and then find the optimum points."
   ]
  },
  {
   "cell_type": "markdown",
   "metadata": {},
   "source": [
    "# Common terminologies in linear programming\n",
    "**Decision Variables:** These variables decide the output and represent the ultimate solution. To solve any problem, decision variables are identified first.\n",
    "**Objective Function:** It is the objective of making decisions.\n",
    "**Constraints:** The constraints are the restrictions or limitations on the decision variables. They usually limit the value of the decision variables.\n",
    "**Non-negativity restriction:** For all linear programs, the decision variables should always take non-negative values. Which means the values for decision variables should be greater than or equal to 0."
   ]
  },
  {
   "cell_type": "markdown",
   "metadata": {},
   "source": [
    "# How to approach a linear programming problem?\n",
    "1. Identify the decision variables\n",
    "2. Write the objective function\n",
    "3. Mention the constraints\n",
    "4. Explicitly state the non-negativity restriction"
   ]
  },
  {
   "cell_type": "markdown",
   "metadata": {},
   "source": [
    "# Let's take an example.\n",
    "\n",
    "**A car company produces 2 models, model A and model B. Long-term projections indicate an expected demand of at least 100 model A cars and 80 model B cars each day. Because of limitations on production capacity, no more than 200 model A cars and 170 model B cars can be made daily. To satisfy a shipping contract, a total of at least 200 cars much be shipped each day. If each model A car sold results in a \\$2000 loss, but each model B car produces a \\$5000 profit, how many of each type should be made daily to maximize net profits?**"
   ]
  },
  {
   "cell_type": "markdown",
   "metadata": {},
   "source": [
    "**This is a maximization problem.**\n",
    "\n",
    "**Identifying the decision variables** \n",
    "\n",
    "Let x be the number of model A cars to be produced every day to maximize profits\n",
    "\n",
    "Let y be the number of model B cars to be produced every day to maximize profits"
   ]
  },
  {
   "cell_type": "markdown",
   "metadata": {},
   "source": [
    "**Writing the objective function**\n",
    "\n",
    "Z = -2000\\*x + 5000\\*y"
   ]
  },
  {
   "cell_type": "markdown",
   "metadata": {},
   "source": [
    "**Mentioning the constraints**\n",
    "\n",
    "x + y <= 200\n",
    "\n",
    "100 <= x <= 200\n",
    "\n",
    "80 <= y <= 170"
   ]
  },
  {
   "cell_type": "markdown",
   "metadata": {},
   "source": [
    "**Stating the non-negativity restriction**\n",
    "\n",
    "x >= 0\n",
    "\n",
    "y >= 0"
   ]
  },
  {
   "cell_type": "markdown",
   "metadata": {},
   "source": [
    "There are many methods to solve this problem like graphical method, simplex method, northwest corner method and least cost method. We will solve this example using simplex method."
   ]
  },
  {
   "cell_type": "markdown",
   "metadata": {},
   "source": [
    "# Simplex method\n",
    "Simplex Method is one of the most powerful & popular methods for linear programming. Simplex method is an iterative procedure for getting the most feasible solution. In this method, we keep transforming the value of basic variables to get maximum value for the objective function.\n",
    "\n",
    "<img src=\"http://gdurl.com/vg50\">"
   ]
  },
  {
   "cell_type": "markdown",
   "metadata": {},
   "source": [
    "We will use python's **scipy** library to use simplex method in an easy way."
   ]
  },
  {
   "cell_type": "markdown",
   "metadata": {},
   "source": [
    "**linprog is the method of optimize class of scipy which by default uses simplex method to solve linear programming based problems**"
   ]
  },
  {
   "cell_type": "code",
   "execution_count": 3,
   "metadata": {
    "collapsed": true
   },
   "outputs": [],
   "source": [
    "from scipy.optimize import linprog"
   ]
  },
  {
   "cell_type": "code",
   "execution_count": 4,
   "metadata": {
    "collapsed": true
   },
   "outputs": [],
   "source": [
    "# c is the list of coefficients of the objective function.\n",
    "# By default, linprog is used for minimizing the objective function.\n",
    "# So, we use [2000,-5000] instead of [-2000,5000] as max(f(x)) == -min(-f(x)).\n",
    "# Now, linprog will be used to maximize the objective function.\n",
    "c = [2000,-5000]\n",
    "# A is a 2-D array which, when matrix-multiplied by x, gives the values of the upper-bound inequality constraints at x.\n",
    "# -ve sign is used to perform mximization.([-1,-1] instead of 1)\n",
    "A = [[-1,-1]]\n",
    "# b is a 1-D array of values representing the upper-bound of each inequality constraint (row) in A.\n",
    "b = [200]\n",
    "# x_b and y_b represent upper and lower bounds of x and y respectively. \n",
    "x_b = (100,200)\n",
    "y_b = (80,170)"
   ]
  },
  {
   "cell_type": "code",
   "execution_count": 5,
   "metadata": {},
   "outputs": [
    {
     "name": "stdout",
     "output_type": "stream",
     "text": [
      "Optimization terminated successfully.\n",
      "         Current function value: -650000.000000\n",
      "         Iterations: 3\n"
     ]
    }
   ],
   "source": [
    "# Now linprog when applied returns a scipy.optimize.OptimizeResult object\n",
    "res = linprog(c,A_ub=A,b_ub=b,bounds=(x_b,y_b),options={\"disp\":True})"
   ]
  },
  {
   "cell_type": "code",
   "execution_count": 6,
   "metadata": {},
   "outputs": [
    {
     "data": {
      "text/plain": [
       "     fun: -650000.0\n",
       " message: 'Optimization terminated successfully.'\n",
       "     nit: 3\n",
       "   slack: array([ 470.,  100.,    0.,   90.,    0.])\n",
       "  status: 0\n",
       " success: True\n",
       "       x: array([ 100.,  170.])"
      ]
     },
     "execution_count": 6,
     "metadata": {},
     "output_type": "execute_result"
    }
   ],
   "source": [
    "# Now, we inspect res which is the result\n",
    "res"
   ]
  },
  {
   "cell_type": "markdown",
   "metadata": {},
   "source": [
    "**Some important observations/results**\n",
    "\n",
    "**fun:** Value of the objective function **-650000**. -ve sign indicates that this is the maximum value for the given objective function.\n",
    "\n",
    "**slack:** The values of the slack variables. Each slack variable corresponds to an inequality constraint. If the slack is zero, then the corresponding constraint is active.\n",
    "\n",
    "**x:** The independent variable vector which optimizes the linear programming problem. **For the given problem, decision variable x = 100 and decision variable y = 170.**"
   ]
  },
  {
   "cell_type": "markdown",
   "metadata": {},
   "source": [
    "Therefore, the car company should produce and ship **100 model A cars** and **170 model B cars** every day to meet the demand and satisfy the shipping contract."
   ]
  },
  {
   "cell_type": "markdown",
   "metadata": {},
   "source": [
    "# End notes\n",
    "I hope you enjoyed reading this article. I have explained all the basic concepts of linear programming successfully. Contact me via email for any questions or doubts."
   ]
  },
  {
   "cell_type": "code",
   "execution_count": null,
   "metadata": {
    "collapsed": true
   },
   "outputs": [],
   "source": []
  }
 ],
 "metadata": {
  "kernelspec": {
   "display_name": "Python 3",
   "language": "python",
   "name": "python3"
  },
  "language_info": {
   "codemirror_mode": {
    "name": "ipython",
    "version": 3
   },
   "file_extension": ".py",
   "mimetype": "text/x-python",
   "name": "python",
   "nbconvert_exporter": "python",
   "pygments_lexer": "ipython3",
   "version": "3.6.1"
  }
 },
 "nbformat": 4,
 "nbformat_minor": 2
}
